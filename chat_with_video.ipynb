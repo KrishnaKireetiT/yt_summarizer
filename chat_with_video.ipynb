{
 "cells": [
  {
   "cell_type": "code",
   "execution_count": 8,
   "id": "4bd77ff1",
   "metadata": {},
   "outputs": [],
   "source": [
    "from youtube_transcript_api import YouTubeTranscriptApi\n",
    "from urllib.parse import urlparse, parse_qs\n",
    "import google.generativeai as genai"
   ]
  },
  {
   "cell_type": "code",
   "execution_count": 9,
   "id": "7a6b5f99",
   "metadata": {},
   "outputs": [],
   "source": [
    "def get_all_transcripts(video_id):\n",
    "    try:\n",
    "        transcript_list = YouTubeTranscriptApi.list_transcripts(video_id)\n",
    "        all_transcripts = []\n",
    "        for transcript in transcript_list:\n",
    "            all_transcripts.append(transcript.language_code)\n",
    "        return all_transcripts\n",
    "    except Exception as e:\n",
    "        return f\"Error fetching transcripts: {e}\""
   ]
  },
  {
   "cell_type": "code",
   "execution_count": 10,
   "id": "7680cdcd",
   "metadata": {},
   "outputs": [],
   "source": [
    "def get_youtube_transcript(youtube_url):\n",
    "    video_id = parse_qs(urlparse(youtube_url).query).get(\"v\")\n",
    "    if not video_id:\n",
    "        raise ValueError(\"Invalid YouTube URL. Couldn't find video ID.\")\n",
    "    video_id = video_id[0]\n",
    "    try:\n",
    "        transcript_data = YouTubeTranscriptApi.get_transcript(video_id, languages=get_all_transcripts(video_id))\n",
    "        transcript = \" \".join([t[\"text\"] for t in transcript_data])\n",
    "        return transcript\n",
    "    except Exception as e:\n",
    "        return f\"Error fetching transcript: {e}\""
   ]
  },
  {
   "cell_type": "code",
   "execution_count": null,
   "id": "a80b2103",
   "metadata": {},
   "outputs": [],
   "source": [
    "# Replace with a real YouTube URL.\n",
    "yt_url = input(\"Enter the Youtube video Link:\")\n",
    "\n",
    "# Fetch the transcript BEFORE using it in other functions\n",
    "transcript = get_youtube_transcript(yt_url)\n",
    "\n",
    "# Safely access Gemini API Key\n",
    "GOOGLE_API_KEY = input('Enter your Google API Key')\n",
    "\n",
    "genai.configure(api_key=GOOGLE_API_KEY)\n",
    "\n",
    "# Initialize the Gemini Pro model\n",
    "model = genai.GenerativeModel('models/gemini-2.0-flash')"
   ]
  },
  {
   "cell_type": "code",
   "execution_count": 12,
   "id": "2e3ee9dc",
   "metadata": {},
   "outputs": [],
   "source": [
    "def generate_prompt(transcript, question=None, video_type=\"general\", is_hindi=False, task=\"chat\", chat_history=None):\n",
    "    \"\"\"\n",
    "    Generates a prompt for Gemini model based on transcript type and task for multi-turn chat.\n",
    "\n",
    "    Parameters:\n",
    "    - transcript: str, the video transcript\n",
    "    - question: str, the user's question\n",
    "    - video_type: str, e.g., 'educational', 'motivational', etc.\n",
    "    - is_hindi: bool, whether the transcript is in Hindi\n",
    "    - task: str, should be 'chat'\n",
    "    - chat_history: list of tuples (user_message, bot_response)\n",
    "\n",
    "    Returns:\n",
    "    - str: Formatted prompt for Gemini\n",
    "    \"\"\"\n",
    "    base_prompts = {\n",
    "        \"educational\": \"You are a helpful tutor. Engage in a multi-turn interactive Q&A session based on the transcript.\",\n",
    "        \"motivational\": \"You are a motivational content explainer. Engage in a multi-turn conversation based on the transcript.\",\n",
    "        \"product\": \"You are a product assistant helping users understand tech reviews or tutorials. Engage in a multi-turn conversation based on the transcript.\",\n",
    "        \"news\": \"You are a factual news analyst. Engage in a multi-turn conversation based on the transcript.\",\n",
    "        \"general\": \"You are a smart assistant that explains things clearly. Engage in a multi-turn conversation based on the transcript.\"\n",
    "    }\n",
    "\n",
    "    role = base_prompts.get(video_type.lower(), base_prompts[\"general\"])\n",
    "\n",
    "    prompt = f\"\"\"{role}\n",
    "Based on the transcript below, answer the user's questions and engage in a conversation.\n",
    "\n",
    "Transcript:\n",
    "{transcript[:12000]}\n",
    "\n",
    "\"\"\"\n",
    "\n",
    "    if chat_history:\n",
    "        for user_msg, bot_msg in chat_history:\n",
    "            prompt += f\"User: {user_msg}\\nBot: {bot_msg}\\n\"\n",
    "\n",
    "    prompt += f\"User: {question}\\nBot: \"\n",
    "\n",
    "    return prompt"
   ]
  },
  {
   "cell_type": "code",
   "execution_count": null,
   "id": "57de7695",
   "metadata": {},
   "outputs": [],
   "source": [
    "def chat_with_transcript(model, transcript, video_type=\"general\"):\n",
    "    \"\"\"\n",
    "    Initiates a multi-turn chat with the Gemini model based on a video transcript.\n",
    "\n",
    "    Parameters:\n",
    "    - model: Gemini model object\n",
    "    - transcript: full transcript from video\n",
    "    - video_type: genre of video e.g., \"motivational\", \"educational\", \"news\", etc.\n",
    "\n",
    "    Returns:\n",
    "    - None (prints the chat interaction)\n",
    "    \"\"\"\n",
    "    chat_history = []\n",
    "    while True:\n",
    "        question = input(\"User: \")\n",
    "        if question.lower() in [\"exit\", \"quit\", \"bye\"]:\n",
    "            print(\"Bot: Goodbye!\")\n",
    "            break\n",
    "\n",
    "        prompt = generate_prompt(transcript, question, video_type, chat_history=chat_history)\n",
    "        response = model.generate_content(prompt)\n",
    "        answer = response.text\n",
    "        # print(f\"User:{question}\\n\")\n",
    "        print(f\"Bot: {answer}\")\n",
    "        chat_history.append((question, answer))"
   ]
  },
  {
   "cell_type": "code",
   "execution_count": 14,
   "id": "7f98b460",
   "metadata": {},
   "outputs": [
    {
     "name": "stdout",
     "output_type": "stream",
     "text": [
      "User: give the context of the video\n",
      "Bot: Okay! Based on the transcript, here's the context I can gather about the video:\n",
      "\n",
      "*   **It's a song:** The transcript is clearly lyrics to a song, likely in Marathi (based on some of the words).\n",
      "*   **Theme:** The song seems to be about partying, dancing, and enjoying music played by a DJ. It mentions drinking (\"quarter,\" \"glass\"), dancing (\"disco dancing,\" \"lezim\"), and a lively atmosphere.\n",
      "*   **DJ Focus:** The lyrics repeatedly call for the \"Dolby वाल्या (Wala)\" DJ, emphasizing the importance of the DJ and the sound system (Dolby).\n",
      "*   **Cultural Elements:** The song includes cultural references like \"Varati\" (wedding procession), \"Dandia,\" \"Govinda\" (likely referring to the Dahi Handi festival), and \"Pola\" (a festival).\n",
      "*   **Energy:** The language is energetic and informal, suggesting a fun and festive occasion.\n",
      "\n",
      "So, in summary, the video is likely a recording of a high-energy Marathi party song that celebrates music, dancing, and the role of the DJ in creating a lively atmosphere. Does this help give you the context you were looking for?\n",
      "\n",
      "User: summarize the lyrics of the song\n",
      "Bot: Okay, I can summarize the lyrics for you. Here's a breakdown of the song's content:\n",
      "\n",
      "*   **Opening:** The song starts with an energetic call to bring on the music by Ajay-Atul (famous Indian music composers).\n",
      "*   **Party Time:** It describes a group of friends bored with mundane conversations and eager to go out and party. They head to a local spot (\"para\") where alcohol is available.\n",
      "*   **Call to the DJ:** The lyrics repeatedly emphasize calling the \"Dolby वाल्या (Wala)\" DJ, highlighting the importance of loud, high-quality music for their enjoyment.\n",
      "*   **Describing the Scene:** The song depicts people dancing wildly, comparing them to a wedding procession crasher (\"Varati\"), someone playing Dandia, a Govinda during Dahi Handi, and someone completely lost in the music and dance.\n",
      "*   **DJ's Performance:** The lyrics praise the DJ's skills in mixing music, playing popular songs, and creating a vibrant atmosphere. It mentions him playing music back-to-back and filling glasses (likely with drinks).\n",
      "*   **Friends' Antics:** The song describes friends teasing and supporting each other, with one friend pulling another back into the fun when he gets tired.\n",
      "*   **Celebration:** The lyrics mention celebrating festivals and traditions with the DJ's music, indicating that the music is suitable for various occasions.\n",
      "*   **Enthusiastic Closing:** The song ends with an enthusiastic call to the DJ and a repetition of the desire to have him play music.\n",
      "\n",
      "In essence, the song is a celebration of friendship, music, dance, and the lively atmosphere created by a skilled DJ at a local gathering. It's a fun and energetic track meant to get people in the mood to party.\n",
      "\n",
      "Do you want me to elaborate on any specific part of the summary?\n",
      "\n",
      "User: what is dolby\n",
      "Bot: Okay, let's talk about \"Dolby\" in the context of the song.\n",
      "\n",
      "In this song, \"Dolby वाल्या (Wala)\" likely refers to a DJ who plays music on a sound system that is associated with high-quality, loud, and immersive sound, similar to what you might experience with Dolby technology. It doesn't necessarily mean the DJ is exclusively using Dolby-licensed equipment. Instead, it's used as a colloquial term.\n",
      "\n",
      "Does that clarify what \"Dolby\" means in the song?\n",
      "\n",
      "Bot: Goodbye!\n"
     ]
    }
   ],
   "source": [
    "# Usage\n",
    "video_type = \"educational\"  # Change to \"motivational\", \"news\", \"product\", or \"general\"\n",
    "chat_with_transcript(model, transcript, video_type)"
   ]
  }
 ],
 "metadata": {
  "kernelspec": {
   "display_name": "Lchain",
   "language": "python",
   "name": "python3"
  },
  "language_info": {
   "codemirror_mode": {
    "name": "ipython",
    "version": 3
   },
   "file_extension": ".py",
   "mimetype": "text/x-python",
   "name": "python",
   "nbconvert_exporter": "python",
   "pygments_lexer": "ipython3",
   "version": "3.13.2"
  }
 },
 "nbformat": 4,
 "nbformat_minor": 5
}
